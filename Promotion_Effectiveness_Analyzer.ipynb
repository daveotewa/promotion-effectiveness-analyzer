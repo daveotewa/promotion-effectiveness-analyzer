{
 "cells": [
  {
   "cell_type": "markdown",
   "id": "53ca4426",
   "metadata": {},
   "source": [
    "# 🛍️ Promotion Effectiveness Analyzer\n",
    "This notebook analyzes the impact of promotions (discounts) on supplement sales using historical weekly data."
   ]
  },
  {
   "cell_type": "code",
   "execution_count": null,
   "id": "45e9f238",
   "metadata": {},
   "outputs": [],
   "source": [
    "import pandas as pd\n",
    "import matplotlib.pyplot as plt\n",
    "import seaborn as sns\n",
    "\n",
    "# Load dataset\n",
    "file_path = \"Supplement_Sales_Weekly_Expanded.csv\"\n",
    "df = pd.read_csv(file_path)\n",
    "\n",
    "# Initial preview\n",
    "df.head()"
   ]
  },
  {
   "cell_type": "markdown",
   "id": "43f738db",
   "metadata": {},
   "source": [
    "## 📈 Basic KPIs: Promotional vs Non-Promotional"
   ]
  },
  {
   "cell_type": "code",
   "execution_count": null,
   "id": "1b3f1d57",
   "metadata": {},
   "outputs": [],
   "source": [
    "# Classify weeks as Promotional or Non-Promotional\n",
    "df['Promotion'] = df['Discount'].apply(lambda x: 'Promotional' if x > 0 else 'Non-Promotional')\n",
    "\n",
    "# Calculate average KPIs\n",
    "promo_summary = df.groupby('Promotion').agg({\n",
    "    'Units Sold': 'mean',\n",
    "    'Revenue': 'mean',\n",
    "    'Units Returned': 'mean',\n",
    "    'Discount': 'mean'\n",
    "}).round(2).reset_index()\n",
    "\n",
    "promo_summary"
   ]
  },
  {
   "cell_type": "markdown",
   "id": "455df3af",
   "metadata": {},
   "source": [
    "## 📦 Product-Level Performance Analysis"
   ]
  },
  {
   "cell_type": "code",
   "execution_count": null,
   "id": "781afac6",
   "metadata": {},
   "outputs": [],
   "source": [
    "top_products = df.groupby(['Product Name', 'Promotion'])['Units Sold'].mean().unstack().fillna(0)\n",
    "top_products.sort_values(by='Promotional', ascending=False).head(10)"
   ]
  },
  {
   "cell_type": "markdown",
   "id": "27009e22",
   "metadata": {},
   "source": [
    "## 📊 Weekly Revenue Trends"
   ]
  },
  {
   "cell_type": "code",
   "execution_count": null,
   "id": "6ff34a05",
   "metadata": {},
   "outputs": [],
   "source": [
    "df['Date'] = pd.to_datetime(df['Date'])\n",
    "weekly = df.groupby(['Date', 'Promotion'])['Revenue'].sum().unstack()\n",
    "\n",
    "weekly.plot(figsize=(12,6), title='Weekly Revenue: Promotional vs Non-Promotional')\n",
    "plt.ylabel(\"Revenue\")\n",
    "plt.grid(True)\n",
    "plt.tight_layout()\n",
    "plt.show()"
   ]
  },
  {
   "cell_type": "markdown",
   "id": "1a9ee00f",
   "metadata": {},
   "source": [
    "## 💸 Impact of Discount on Units Sold"
   ]
  },
  {
   "cell_type": "code",
   "execution_count": null,
   "id": "ce1e7b41",
   "metadata": {},
   "outputs": [],
   "source": [
    "sns.scatterplot(data=df[df['Discount'] > 0], x='Discount', y='Units Sold', hue='Platform')\n",
    "plt.title('Discount % vs Units Sold')\n",
    "plt.grid(True)\n",
    "plt.show()"
   ]
  },
  {
   "cell_type": "markdown",
   "id": "d26bd548",
   "metadata": {},
   "source": [
    "## 📉 Return Behavior"
   ]
  },
  {
   "cell_type": "code",
   "execution_count": null,
   "id": "dc6c87ff",
   "metadata": {},
   "outputs": [],
   "source": [
    "return_rate = df.groupby('Promotion')['Units Returned'].mean().reset_index()\n",
    "sns.barplot(data=return_rate, x='Promotion', y='Units Returned')\n",
    "plt.title('Average Units Returned: Promo vs Non-Promo')\n",
    "plt.show()"
   ]
  },
  {
   "cell_type": "markdown",
   "id": "938b4677",
   "metadata": {},
   "source": [
    "## 🧠 Key Takeaways\n",
    "- Promotional weeks generally boost unit sales.\n",
    "- Certain products perform exceptionally well during promotions.\n",
    "- Discount levels show varied correlation with sales performance.\n",
    "- Returns should be monitored closely during heavy promotions."
   ]
  }
 ],
 "metadata": {},
 "nbformat": 4,
 "nbformat_minor": 5
}